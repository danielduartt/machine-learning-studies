{
  "nbformat": 4,
  "nbformat_minor": 0,
  "metadata": {
    "colab": {
      "provenance": [],
      "authorship_tag": "ABX9TyMEGwmBjzZNIyhkmnVi0zpD",
      "include_colab_link": true
    },
    "kernelspec": {
      "name": "python3",
      "display_name": "Python 3"
    },
    "language_info": {
      "name": "python"
    }
  },
  "cells": [
    {
      "cell_type": "markdown",
      "metadata": {
        "id": "view-in-github",
        "colab_type": "text"
      },
      "source": [
        "<a href=\"https://colab.research.google.com/github/danielduartt/Numpy-Python/blob/main/Exerc%C3%ADcios_Fixa%C3%A7%C3%A3o.ipynb\" target=\"_parent\"><img src=\"https://colab.research.google.com/assets/colab-badge.svg\" alt=\"Open In Colab\"/></a>"
      ]
    },
    {
      "cell_type": "code",
      "execution_count": 1,
      "metadata": {
        "id": "JjZtGONXnid0"
      },
      "outputs": [],
      "source": [
        "import numpy as np\n"
      ]
    },
    {
      "cell_type": "markdown",
      "source": [
        "#**Exercício Numpy**\n",
        "\n",
        "\n",
        "\n"
      ],
      "metadata": {
        "id": "CsEZvbBtnuQW"
      }
    },
    {
      "cell_type": "markdown",
      "source": [
        "* Exercício 1: Crie um array NumPy com os números de 1 a 10 e imprima-o."
      ],
      "metadata": {
        "id": "l1Gi-J4-oGqL"
      }
    },
    {
      "cell_type": "code",
      "source": [
        "arr = np.arange(1, 11)\n",
        "print(arr)"
      ],
      "metadata": {
        "colab": {
          "base_uri": "https://localhost:8080/"
        },
        "id": "PExl1PhHoKOe",
        "outputId": "594a2702-c582-438c-a357-13b550cd1180"
      },
      "execution_count": 2,
      "outputs": [
        {
          "output_type": "stream",
          "name": "stdout",
          "text": [
            "[ 1  2  3  4  5  6  7  8  9 10]\n"
          ]
        }
      ]
    },
    {
      "cell_type": "markdown",
      "source": [
        "* Exercício 2: Crie um array NumPy com 10 elementos, todos iguais a 5."
      ],
      "metadata": {
        "id": "-HJJw-WpoQko"
      }
    },
    {
      "cell_type": "code",
      "source": [
        "arr = np.full(10, 5) # 10 elementos, todos iguais a zero            >IMPORTANTE!<\n",
        "print(arr)"
      ],
      "metadata": {
        "colab": {
          "base_uri": "https://localhost:8080/"
        },
        "id": "rYYDHC37oT3D",
        "outputId": "77cb906f-e3a3-4f61-83e8-5fad958d9525"
      },
      "execution_count": 3,
      "outputs": [
        {
          "output_type": "stream",
          "name": "stdout",
          "text": [
            "[5 5 5 5 5 5 5 5 5 5]\n"
          ]
        }
      ]
    },
    {
      "cell_type": "markdown",
      "source": [
        "* Exercício 3: Crie um array NumPy com os números pares de 0 a 50."
      ],
      "metadata": {
        "id": "UGmYmOLQoiRa"
      }
    },
    {
      "cell_type": "code",
      "source": [
        "arr = np.arange(0, 51, 2)\n",
        "print(arr)"
      ],
      "metadata": {
        "colab": {
          "base_uri": "https://localhost:8080/"
        },
        "id": "W5yf4U7Zoke_",
        "outputId": "bd63dc58-dfb0-4d54-eaeb-1ef78ab6159b"
      },
      "execution_count": 4,
      "outputs": [
        {
          "output_type": "stream",
          "name": "stdout",
          "text": [
            "[ 0  2  4  6  8 10 12 14 16 18 20 22 24 26 28 30 32 34 36 38 40 42 44 46\n",
            " 48 50]\n"
          ]
        }
      ]
    },
    {
      "cell_type": "markdown",
      "source": [
        "* Exercício 4: Crie um array NumPy com os números ímpares de 1 a 50."
      ],
      "metadata": {
        "id": "hqxOC8DAoyFD"
      }
    },
    {
      "cell_type": "code",
      "source": [
        "array = np.arange(1, 51, 2)\n",
        "print(array)\n"
      ],
      "metadata": {
        "colab": {
          "base_uri": "https://localhost:8080/"
        },
        "id": "g_qQT1_eo09r",
        "outputId": "0fad0284-386e-4884-e156-e951373ba8e7"
      },
      "execution_count": 7,
      "outputs": [
        {
          "output_type": "stream",
          "name": "stdout",
          "text": [
            "[ 1  3  5  7  9 11 13 15 17 19 21 23 25 27 29 31 33 35 37 39 41 43 45 47\n",
            " 49]\n"
          ]
        }
      ]
    },
    {
      "cell_type": "markdown",
      "source": [
        "* Exercício 5: Crie um array NumPy com 25 elementos aleatórios, com valores entre 0 e 100."
      ],
      "metadata": {
        "id": "GcfmTtawpT4r"
      }
    },
    {
      "cell_type": "code",
      "source": [
        "random_arr = np.random.randint(0, 100, 25)\n",
        "print(random_arr)"
      ],
      "metadata": {
        "colab": {
          "base_uri": "https://localhost:8080/"
        },
        "id": "WB2DrqX2pV6U",
        "outputId": "39bd942d-a5f1-4b89-867a-18e8edbf1c40"
      },
      "execution_count": 9,
      "outputs": [
        {
          "output_type": "stream",
          "name": "stdout",
          "text": [
            "[69 29 89 51 11 55 10 90 66  4 44 56 21 67 91 38 51 53 19 74 26 15  1  3\n",
            " 24]\n"
          ]
        }
      ]
    },
    {
      "cell_type": "markdown",
      "source": [
        "* Exercício 6: Dado o array NumPy [1, 2, 3, 4, 5], inverta a ordem dos elementos."
      ],
      "metadata": {
        "id": "WT4P89izpzJ0"
      }
    },
    {
      "cell_type": "code",
      "source": [
        "arr = np.array([1,2,3,4,5])\n",
        "arr = arr[-1::-1]\n",
        "print(arr)"
      ],
      "metadata": {
        "colab": {
          "base_uri": "https://localhost:8080/"
        },
        "id": "GK3vCLg3p0T0",
        "outputId": "fdeeef9f-a07c-4d7d-86ab-af857f80e85a"
      },
      "execution_count": 18,
      "outputs": [
        {
          "output_type": "stream",
          "name": "stdout",
          "text": [
            "[5 4 3 2 1]\n"
          ]
        }
      ]
    },
    {
      "cell_type": "markdown",
      "source": [
        "* Exercício 7: Dado o array NumPy [1, 2, 3, 4, 5], crie um novo array com os elementos em ordem inversa, mas mantendo o original inalterado."
      ],
      "metadata": {
        "id": "I5UixB3cqjYk"
      }
    },
    {
      "cell_type": "code",
      "source": [
        "arr_original = np.array([1,2,3,4,5])\n",
        "arr_inverso = arr_original[-1::-1]\n",
        "print(\"------------Original---------------\")\n",
        "print(arr_original)\n",
        "print(\"------------Inverso----------------\")\n",
        "print(arr_inverso)\n"
      ],
      "metadata": {
        "colab": {
          "base_uri": "https://localhost:8080/"
        },
        "id": "FE6H-fHVqmzA",
        "outputId": "ed50edd6-c604-4417-99ce-2f21dfa9a064"
      },
      "execution_count": 19,
      "outputs": [
        {
          "output_type": "stream",
          "name": "stdout",
          "text": [
            "------------Original---------------\n",
            "[1 2 3 4 5]\n",
            "------------Inverso----------------\n",
            "[5 4 3 2 1]\n"
          ]
        }
      ]
    },
    {
      "cell_type": "markdown",
      "source": [
        "* Exercício 8: Crie um array NumPy bidimensional 3x3 com valores de 0 a 8."
      ],
      "metadata": {
        "id": "hAizIgiDrKcL"
      }
    },
    {
      "cell_type": "code",
      "source": [
        "arr_3x3 = np.arange(9).reshape(3,3) #IMPORTANTE!\n",
        "print(arr_3x3)"
      ],
      "metadata": {
        "colab": {
          "base_uri": "https://localhost:8080/"
        },
        "id": "NapNkTA6rTG8",
        "outputId": "917d991f-ebad-4b33-ccc5-8c193be7937a"
      },
      "execution_count": 22,
      "outputs": [
        {
          "output_type": "stream",
          "name": "stdout",
          "text": [
            "[[0 1 2]\n",
            " [3 4 5]\n",
            " [6 7 8]]\n"
          ]
        }
      ]
    },
    {
      "cell_type": "markdown",
      "source": [
        "* Exercício 9: Crie um array NumPy bidimensional 5x5 com valores aleatórios entre 0 e 9. Em seguida, encontre o valor máximo e o valor mínimo do array"
      ],
      "metadata": {
        "id": "1bVq1Z0PrnTL"
      }
    },
    {
      "cell_type": "code",
      "source": [
        "arr_5x5_ale = np.random.randint(0, 10, size = (5,5)) #IMPORTANTE!\n",
        "print(arr_5x5_ale)\n",
        "print(\"Maior valor: \", arr_5x5_ale.max())\n",
        "print(\"Menor valor: \", arr_5x5_ale.min())"
      ],
      "metadata": {
        "colab": {
          "base_uri": "https://localhost:8080/"
        },
        "id": "vwJcn5qDrqgl",
        "outputId": "ab1fb882-81af-4bb1-c053-aa2681f836d8"
      },
      "execution_count": 36,
      "outputs": [
        {
          "output_type": "stream",
          "name": "stdout",
          "text": [
            "[[4 4 3 8 9]\n",
            " [0 1 9 9 6]\n",
            " [4 1 2 2 5]\n",
            " [2 7 9 6 6]\n",
            " [3 3 3 5 8]]\n",
            "Maior valor:  9\n",
            "Menor valor:  0\n"
          ]
        }
      ]
    },
    {
      "cell_type": "markdown",
      "source": [
        "* Exercício 10: Dado o array NumPy [1, 2, 3, 4, 5], substitua todos os valores maiores que 3 por 0."
      ],
      "metadata": {
        "id": "FXDgVCkysdgb"
      }
    },
    {
      "cell_type": "code",
      "source": [
        "arr = np.array([1,2,3,4,5])\n",
        "arr[arr > 3] = 0\n",
        "print(arr)"
      ],
      "metadata": {
        "colab": {
          "base_uri": "https://localhost:8080/"
        },
        "id": "xKqds3CGshNz",
        "outputId": "418974b6-3eab-406c-ff88-4de7a85fe0cf"
      },
      "execution_count": 37,
      "outputs": [
        {
          "output_type": "stream",
          "name": "stdout",
          "text": [
            "[1 2 3 0 0]\n"
          ]
        }
      ]
    },
    {
      "cell_type": "markdown",
      "source": [
        "* Exercício 11: Dado o array NumPy [1, 2, 3, 4, 5], crie um novo array com os quadrados de cada elemento."
      ],
      "metadata": {
        "id": "3gkdQgyEsrip"
      }
    },
    {
      "cell_type": "code",
      "source": [
        "arr = np.array([1,2,3,4,5])\n",
        "arr = arr[:]**2\n",
        "print(arr)\n",
        "# Ou\n",
        "arr2 =  np.array([1,2,3,4,5])\n",
        "arr2 =  np.square(arr2) #IMPORTANTE!\n",
        "print(arr2)\n"
      ],
      "metadata": {
        "colab": {
          "base_uri": "https://localhost:8080/"
        },
        "id": "4goj28yzsuOY",
        "outputId": "b5be1b46-ec79-480d-e4cb-a3985d133bf6"
      },
      "execution_count": 39,
      "outputs": [
        {
          "output_type": "stream",
          "name": "stdout",
          "text": [
            "[ 1  4  9 16 25]\n",
            "[ 1  4  9 16 25]\n"
          ]
        }
      ]
    },
    {
      "cell_type": "markdown",
      "source": [
        "* Exercício 12: Dado o array NumPy [1, 2, 3, 4, 5], calcule a média dos elementos."
      ],
      "metadata": {
        "id": "7GVzoDZ6tJWF"
      }
    },
    {
      "cell_type": "code",
      "source": [
        "arr = np.array([1,2,3,4,5])\n",
        "print(f\"Média: {arr.mean()}\")"
      ],
      "metadata": {
        "colab": {
          "base_uri": "https://localhost:8080/"
        },
        "id": "1Rx-z3x0tSxq",
        "outputId": "1b4ed92f-e835-4493-8967-1aab7f032435"
      },
      "execution_count": 40,
      "outputs": [
        {
          "output_type": "stream",
          "name": "stdout",
          "text": [
            "Média: 3.0\n"
          ]
        }
      ]
    },
    {
      "cell_type": "markdown",
      "source": [
        "* Exercício 13: Dado o array NumPy [1, 2, 3, 4, 5], normalize os valores de forma que a soma seja igual a 1."
      ],
      "metadata": {
        "id": "4YTigwrItcSS"
      }
    },
    {
      "cell_type": "code",
      "source": [
        "arr = np.array([1,2,3,4,5])\n",
        "arr_normalizado = arr / arr.sum()\n",
        "print(arr_normalizado)\n",
        "print(f\"Soma do array {arr_normalizado.sum()}\")"
      ],
      "metadata": {
        "colab": {
          "base_uri": "https://localhost:8080/"
        },
        "id": "cI2HoK2_tgQu",
        "outputId": "f5235b52-de87-44e6-a8b5-8afc96a5c602"
      },
      "execution_count": 44,
      "outputs": [
        {
          "output_type": "stream",
          "name": "stdout",
          "text": [
            "[0.06666667 0.13333333 0.2        0.26666667 0.33333333]\n",
            "Soma do array 1.0\n"
          ]
        }
      ]
    },
    {
      "cell_type": "markdown",
      "source": [
        "* Exercício 14: Crie um array NumPy com 10 elementos aleatórios entre 0 e 1. Em seguida, arredonde os valores para o inteiro mais próximo."
      ],
      "metadata": {
        "id": "5VYhkBxAt9PQ"
      }
    },
    {
      "cell_type": "code",
      "source": [
        "arr = np.random.randn(10)\n",
        "print(\"Original: \", arr)\n",
        "arr_arredondado = arr.astype(np.int32)\n",
        "print(f\"Arredondado: {arr_arredondado}\")\n",
        "#                 OU\n",
        "print(\"------------------------------------\")\n",
        "array14 = np.random.random(10)\n",
        "print(array14)\n",
        "array14_arredondado = np.round(array14)\n",
        "print(array14_arredondado)\n"
      ],
      "metadata": {
        "colab": {
          "base_uri": "https://localhost:8080/"
        },
        "id": "nXdU9TrRuBnW",
        "outputId": "7d75dce7-c217-415e-d71b-90b9d9775c45"
      },
      "execution_count": 51,
      "outputs": [
        {
          "output_type": "stream",
          "name": "stdout",
          "text": [
            "Original:  [-2.04927529  1.34405167  0.10547473 -0.65013728  0.65304466  0.27510326\n",
            " -1.19274038 -0.90017915 -0.15704605  0.23767727]\n",
            "Arredondado: [-2  1  0  0  0  0 -1  0  0  0]\n",
            "------------------------------------\n",
            "[-2.  1.  0. -1.  1.  0. -1. -1. -0.  0.]\n",
            "------------------------------------\n",
            "[0.91456725 0.94926884 0.11498365 0.22101073 0.23196432 0.09945341\n",
            " 0.33821642 0.87361414 0.87822066 0.52211495]\n",
            "[1. 1. 0. 0. 0. 0. 0. 1. 1. 1.]\n"
          ]
        }
      ]
    },
    {
      "cell_type": "markdown",
      "source": [
        "* Exercício 15: Dado o array NumPy [1, 2, 3, 4, 5], verifique se algum dos elementos é maior que 3."
      ],
      "metadata": {
        "id": "xmatSjYivQUR"
      }
    },
    {
      "cell_type": "code",
      "source": [
        "arr = np.array([1,2,3,4,5])\n",
        "maiores_que_3 = arr[arr > 3]\n",
        "print(maiores_que_3)"
      ],
      "metadata": {
        "colab": {
          "base_uri": "https://localhost:8080/"
        },
        "id": "VZJvpiNgvVc7",
        "outputId": "d5e30173-83a1-484a-a81e-54ff4fb0fce5"
      },
      "execution_count": 52,
      "outputs": [
        {
          "output_type": "stream",
          "name": "stdout",
          "text": [
            "[4 5]\n"
          ]
        }
      ]
    }
  ]
}