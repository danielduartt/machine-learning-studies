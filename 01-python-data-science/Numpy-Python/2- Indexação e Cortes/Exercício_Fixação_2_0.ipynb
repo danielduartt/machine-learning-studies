{
  "nbformat": 4,
  "nbformat_minor": 0,
  "metadata": {
    "colab": {
      "provenance": [],
      "authorship_tag": "ABX9TyP6+30F1Utz7eIoNv8jExo0",
      "include_colab_link": true
    },
    "kernelspec": {
      "name": "python3",
      "display_name": "Python 3"
    },
    "language_info": {
      "name": "python"
    }
  },
  "cells": [
    {
      "cell_type": "markdown",
      "metadata": {
        "id": "view-in-github",
        "colab_type": "text"
      },
      "source": [
        "<a href=\"https://colab.research.google.com/github/danielduartt/Numpy-Python/blob/main/Exerc%C3%ADcio_Fixa%C3%A7%C3%A3o_2_0.ipynb\" target=\"_parent\"><img src=\"https://colab.research.google.com/assets/colab-badge.svg\" alt=\"Open In Colab\"/></a>"
      ]
    },
    {
      "cell_type": "code",
      "execution_count": 1,
      "metadata": {
        "id": "ZYWwhaUK0oFh"
      },
      "outputs": [],
      "source": [
        "import numpy as np"
      ]
    },
    {
      "cell_type": "markdown",
      "source": [
        "#**Exercício Numpy**\n",
        "Exercício 1:\n",
        "\n"
      ],
      "metadata": {
        "id": "OS--gnFv03NY"
      }
    },
    {
      "cell_type": "markdown",
      "source": [
        "* Exercício 1: Crie um array NumPy unidimensional com os números de 0 a 9. Acesse o primeiro elemento do array."
      ],
      "metadata": {
        "id": "kq7ITDcR081A"
      }
    },
    {
      "cell_type": "code",
      "source": [
        "arr1 = np.arange(0, 10)\n",
        "print(arr1[0])"
      ],
      "metadata": {
        "colab": {
          "base_uri": "https://localhost:8080/"
        },
        "id": "EadJwnII1AZR",
        "outputId": "7d34c1fd-8b67-4d25-9471-e837c3178f0d"
      },
      "execution_count": 2,
      "outputs": [
        {
          "output_type": "stream",
          "name": "stdout",
          "text": [
            "0\n"
          ]
        }
      ]
    },
    {
      "cell_type": "markdown",
      "source": [
        "* Exercício 2: Crie um array NumPy unidimensional com os números de 0 a 9. Acesse o último elemento do array."
      ],
      "metadata": {
        "id": "H3j6E3Bh1Nxq"
      }
    },
    {
      "cell_type": "code",
      "source": [
        "arr2 = np.arange(10)\n",
        "print(arr2[-1])"
      ],
      "metadata": {
        "colab": {
          "base_uri": "https://localhost:8080/"
        },
        "id": "IuhpD_RV1QUa",
        "outputId": "85bbe6b6-c323-4b55-92ca-2b46c7f5816b"
      },
      "execution_count": 3,
      "outputs": [
        {
          "output_type": "stream",
          "name": "stdout",
          "text": [
            "9\n"
          ]
        }
      ]
    },
    {
      "cell_type": "markdown",
      "source": [
        "* Exercício 3: Crie um array NumPy unidimensional com os números de 0 a 9. Acesse os elementos do índice 2 ao índice 5 (inclusivo)."
      ],
      "metadata": {
        "id": "yDzfvnja1XBL"
      }
    },
    {
      "cell_type": "code",
      "source": [
        "arr3 = np.arange(10)\n",
        "print(arr3[2: 6])"
      ],
      "metadata": {
        "colab": {
          "base_uri": "https://localhost:8080/"
        },
        "id": "Kut9jyUb1Zds",
        "outputId": "e6494d5b-71b3-410d-f27a-27e7e3a72553"
      },
      "execution_count": 6,
      "outputs": [
        {
          "output_type": "stream",
          "name": "stdout",
          "text": [
            "[2 3 4 5]\n"
          ]
        }
      ]
    },
    {
      "cell_type": "markdown",
      "source": [
        "* Exercício 4: Crie um array NumPy unidimensional com os números de 0 a 9. Acesse os elementos do índice 5 até o final do array."
      ],
      "metadata": {
        "id": "QuVP0drq1-Op"
      }
    },
    {
      "cell_type": "code",
      "source": [
        "arr4 = np.arange(10)\n",
        "print(arr4[5:])"
      ],
      "metadata": {
        "colab": {
          "base_uri": "https://localhost:8080/"
        },
        "id": "pJ05IZRJ2Asw",
        "outputId": "27401dbf-c2a1-4d9e-ced9-e2b8b7c09e06"
      },
      "execution_count": 7,
      "outputs": [
        {
          "output_type": "stream",
          "name": "stdout",
          "text": [
            "[5 6 7 8 9]\n"
          ]
        }
      ]
    },
    {
      "cell_type": "markdown",
      "source": [
        "* Exercício 5: Crie um array NumPy bidimensional 3x3 com valores de 0 a 8. Acesse o elemento da segunda linha e terceira coluna."
      ],
      "metadata": {
        "id": "_EQu0MWP2Ioo"
      }
    },
    {
      "cell_type": "code",
      "source": [
        "arr5 = np.arange(9).reshape(3,3)\n",
        "print(arr5)\n",
        "print(f\"[2,3]: {arr5[1][2]}\")"
      ],
      "metadata": {
        "colab": {
          "base_uri": "https://localhost:8080/"
        },
        "id": "eFGK4Icu2LZn",
        "outputId": "9ea4b725-e957-4731-9340-2bd17c41a2b3"
      },
      "execution_count": 17,
      "outputs": [
        {
          "output_type": "stream",
          "name": "stdout",
          "text": [
            "[[0 1 2]\n",
            " [3 4 5]\n",
            " [6 7 8]]\n",
            "[2,3]: 5\n"
          ]
        }
      ]
    },
    {
      "cell_type": "markdown",
      "source": [
        "* Exercício 6: Crie um array NumPy bidimensional 3x3 com valores de 0 a 8. Acesse a primeira coluna inteira."
      ],
      "metadata": {
        "id": "iyyWPl6d3B4a"
      }
    },
    {
      "cell_type": "code",
      "source": [
        "arr6 = np.arange(9).reshape(3, 3)\n",
        "print(arr6)\n",
        "print(\"--------------primeira coluna----------------\")\n",
        "print(arr6[:, 0])"
      ],
      "metadata": {
        "colab": {
          "base_uri": "https://localhost:8080/"
        },
        "id": "qnylYx0Y3Egl",
        "outputId": "e1e1b4c3-82b6-42e4-9d83-3b3726e8bdda"
      },
      "execution_count": 19,
      "outputs": [
        {
          "output_type": "stream",
          "name": "stdout",
          "text": [
            "[[0 1 2]\n",
            " [3 4 5]\n",
            " [6 7 8]]\n",
            "--------------primeira coluna----------------\n",
            "[0 3 6]\n"
          ]
        }
      ]
    },
    {
      "cell_type": "markdown",
      "source": [
        "* Exercício 7: Crie um array NumPy bidimensional 3x3 com valores de 0 a 8. Acesse a última linha inteira."
      ],
      "metadata": {
        "id": "_kkWtczL3pcJ"
      }
    },
    {
      "cell_type": "code",
      "source": [
        "arr7 = np.arange(9).reshape(3,3)\n",
        "print(arr7)\n",
        "print(\"--------------última coluna----------------\")\n",
        "print(arr7[:, -1])"
      ],
      "metadata": {
        "colab": {
          "base_uri": "https://localhost:8080/"
        },
        "id": "cghJAb8K3seb",
        "outputId": "38e9f36c-780f-475b-e687-d3349798b456"
      },
      "execution_count": 20,
      "outputs": [
        {
          "output_type": "stream",
          "name": "stdout",
          "text": [
            "[[0 1 2]\n",
            " [3 4 5]\n",
            " [6 7 8]]\n",
            "--------------última coluna----------------\n",
            "[2 5 8]\n"
          ]
        }
      ]
    },
    {
      "cell_type": "markdown",
      "source": [
        "* Exercício 8: Crie um array NumPy bidimensional 4x4 com valores aleatórios entre 0 e 9. Acesse a submatriz formada pelas duas primeiras linhas e duas primeiras colunas."
      ],
      "metadata": {
        "id": "MONHC1P137E3"
      }
    },
    {
      "cell_type": "code",
      "source": [
        "arr8 = np.random.randint(0,10, size = (4, 4))\n",
        "print(arr8)\n",
        "print(\"-------------Resposta------------\")\n",
        "print(arr8[0:2, 0:2])"
      ],
      "metadata": {
        "colab": {
          "base_uri": "https://localhost:8080/"
        },
        "id": "yd8O_PPt39JK",
        "outputId": "6fd0805f-20e2-4026-f4bc-395c674ce466"
      },
      "execution_count": 32,
      "outputs": [
        {
          "output_type": "stream",
          "name": "stdout",
          "text": [
            "[[4 2 2 3]\n",
            " [5 3 1 1]\n",
            " [6 8 3 9]\n",
            " [1 8 5 9]]\n",
            "-------------Resposta------------\n",
            "[[4 2]\n",
            " [5 3]]\n"
          ]
        }
      ]
    },
    {
      "cell_type": "markdown",
      "source": [
        "* Exercício 9: Crie um array NumPy bidimensional 4x4 com valores aleatórios entre 0 e 9. Acesse a diagonal principal da matriz."
      ],
      "metadata": {
        "id": "y73GTk065KzO"
      }
    },
    {
      "cell_type": "code",
      "source": [
        "arr9 = np.random.randint(0, 10, size = (4,4))\n",
        "print(arr9)\n",
        "print(\"-------------Resposta------------\")\n",
        "print(np.diag(arr9)) #IMPORTANTE!"
      ],
      "metadata": {
        "colab": {
          "base_uri": "https://localhost:8080/"
        },
        "id": "0n9TomjZ5NLC",
        "outputId": "caacdaf5-3c4c-441d-9ac8-f4e10a0cd95f"
      },
      "execution_count": 33,
      "outputs": [
        {
          "output_type": "stream",
          "name": "stdout",
          "text": [
            "[[6 5 6 5]\n",
            " [2 1 8 1]\n",
            " [4 1 0 9]\n",
            " [7 9 9 6]]\n",
            "-------------Resposta------------\n",
            "[6 1 0 6]\n"
          ]
        }
      ]
    },
    {
      "cell_type": "markdown",
      "source": [
        "* Exercício 10: Crie um array NumPy bidimensional 4x4 com valores aleatórios entre 0 e 9. Acesse todos os elementos da segunda coluna."
      ],
      "metadata": {
        "id": "FyxEdoOS5k4w"
      }
    },
    {
      "cell_type": "code",
      "source": [
        "arr10 = np.random.randint(0, 10, size = (4,4))\n",
        "print(arr10)\n",
        "print(\"-------------Resposta------------\")\n",
        "print(arr10[:, 1])"
      ],
      "metadata": {
        "colab": {
          "base_uri": "https://localhost:8080/"
        },
        "id": "2Fi_s2ca5pxH",
        "outputId": "f060f0c0-8821-4320-e548-6247355b170f"
      },
      "execution_count": 36,
      "outputs": [
        {
          "output_type": "stream",
          "name": "stdout",
          "text": [
            "[[3 4 7 1]\n",
            " [6 2 9 7]\n",
            " [4 6 5 2]\n",
            " [2 7 4 3]]\n",
            "-------------Resposta------------\n",
            "[4 2 6 7]\n"
          ]
        }
      ]
    },
    {
      "cell_type": "markdown",
      "source": [
        "* Exercício 11: Crie um array NumPy unidimensional com os números de 1 a 10. Acesse apenas os elementos que são maiores que 5."
      ],
      "metadata": {
        "id": "mOH6f8wh6Ffd"
      }
    },
    {
      "cell_type": "code",
      "source": [
        "arr11 = np.arange(1, 11)\n",
        "print(arr1)\n",
        "print(\"-------------Resposta------------\")\n",
        "print(arr11[arr11 > 5])\n"
      ],
      "metadata": {
        "colab": {
          "base_uri": "https://localhost:8080/"
        },
        "id": "w_QK7pwu6I8x",
        "outputId": "08f0af89-240d-4c3d-cac6-ab73a4862df1"
      },
      "execution_count": 40,
      "outputs": [
        {
          "output_type": "stream",
          "name": "stdout",
          "text": [
            "[0 1 2 3 4 5 6 7 8 9]\n",
            "-------------Resposta------------\n",
            "[ 6  7  8  9 10]\n"
          ]
        }
      ]
    },
    {
      "cell_type": "markdown",
      "source": [
        "* Exercício 12: Crie um array NumPy unidimensional com os números de 1 a 10. Substitua os elementos menores que 5 por 0."
      ],
      "metadata": {
        "id": "NBvPaM6A6lO2"
      }
    },
    {
      "cell_type": "code",
      "source": [
        "arr12 = np.arange(1, 11)\n",
        "print(arr12)\n",
        "print(\"-------------Resposta------------\")\n",
        "arr12[arr12 > 5] = 0\n",
        "print(arr12)"
      ],
      "metadata": {
        "colab": {
          "base_uri": "https://localhost:8080/"
        },
        "id": "LSZBhXXQ6rE6",
        "outputId": "b7170aaf-7536-43df-a68d-dabde90372a3"
      },
      "execution_count": 41,
      "outputs": [
        {
          "output_type": "stream",
          "name": "stdout",
          "text": [
            "[ 1  2  3  4  5  6  7  8  9 10]\n",
            "-------------Resposta------------\n",
            "[1 2 3 4 5 0 0 0 0 0]\n"
          ]
        }
      ]
    },
    {
      "cell_type": "markdown",
      "source": [
        "* Exercício 13: Crie um array NumPy unidimensional com valores aleatórios entre 0 e 9. Crie um novo array contendo apenas os elementos únicos do array original."
      ],
      "metadata": {
        "id": "xYwEmIu26-9t"
      }
    },
    {
      "cell_type": "code",
      "source": [
        "arr13_ale = np.random.randint(0, 10, 10)\n",
        "print(arr13_ale)\n",
        "print(\"-------------Resposta------------\")\n",
        "arr13_unico = np.unique(arr13_ale)\n",
        "print(arr13_unico)"
      ],
      "metadata": {
        "colab": {
          "base_uri": "https://localhost:8080/"
        },
        "id": "3ywYetHw7Bao",
        "outputId": "2817144d-d3bb-4910-86e8-dd91f6498354"
      },
      "execution_count": 51,
      "outputs": [
        {
          "output_type": "stream",
          "name": "stdout",
          "text": [
            "[2 6 0 5 8 2 1 2 4 5]\n",
            "-------------Resposta------------\n",
            "[0 1 2 4 5 6 8]\n"
          ]
        }
      ]
    },
    {
      "cell_type": "markdown",
      "source": [
        "* Exercício 14: Crie um array NumPy unidimensional com valores aleatórios entre 0 e 9. Conte a quantidade de ocorrências de cada elemento no array."
      ],
      "metadata": {
        "id": "-mGsvZ4L7sut"
      }
    },
    {
      "cell_type": "code",
      "source": [
        "array14 = np.random.randint(0,10,10)\n",
        "unique_elements, counts = np.unique(array14, return_counts=True) #IMPORTANTE!\n",
        "print(dict(zip(unique_elements, counts)))"
      ],
      "metadata": {
        "colab": {
          "base_uri": "https://localhost:8080/"
        },
        "id": "x-ryS6op7vI_",
        "outputId": "7673149a-827a-4781-8859-2ee89598adcc"
      },
      "execution_count": 52,
      "outputs": [
        {
          "output_type": "stream",
          "name": "stdout",
          "text": [
            "{0: 2, 3: 1, 4: 2, 5: 1, 6: 2, 8: 2}\n"
          ]
        }
      ]
    },
    {
      "cell_type": "markdown",
      "source": [
        "* Exercício 15: Crie um array NumPy unidimensional com valores aleatórios entre 0 e 9. Verifique se o número 5 está presente no array."
      ],
      "metadata": {
        "id": "1VIJZwJX8O8E"
      }
    },
    {
      "cell_type": "code",
      "source": [
        "arr15 = np.random.randint(0,10,10)\n",
        "if 5 in arr15:\n",
        "  print(f\"O número 5 está no array: {arr15}\")\n",
        "else:\n",
        "  print(f\"O número 5 não está no array: {arr15}\")"
      ],
      "metadata": {
        "colab": {
          "base_uri": "https://localhost:8080/"
        },
        "id": "CpRKsPFB8Udz",
        "outputId": "6d94b053-c8a6-426c-b7c0-cc5005c0f27c"
      },
      "execution_count": 62,
      "outputs": [
        {
          "output_type": "stream",
          "name": "stdout",
          "text": [
            "O número 5 está no array: [1 2 9 4 7 3 6 0 5 7]\n"
          ]
        }
      ]
    }
  ]
}