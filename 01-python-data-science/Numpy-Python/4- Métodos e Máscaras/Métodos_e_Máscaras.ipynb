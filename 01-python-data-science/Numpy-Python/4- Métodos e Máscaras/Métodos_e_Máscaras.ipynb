{
  "nbformat": 4,
  "nbformat_minor": 0,
  "metadata": {
    "colab": {
      "provenance": [],
      "authorship_tag": "ABX9TyN0kEn6R4mV7LAdY4VZCzH4",
      "include_colab_link": true
    },
    "kernelspec": {
      "name": "python3",
      "display_name": "Python 3"
    },
    "language_info": {
      "name": "python"
    }
  },
  "cells": [
    {
      "cell_type": "markdown",
      "metadata": {
        "id": "view-in-github",
        "colab_type": "text"
      },
      "source": [
        "<a href=\"https://colab.research.google.com/github/danielduartt/Numpy-Python/blob/main/M%C3%A9todos%20e%20M%C3%A1scaras/M%C3%A9todos_e_M%C3%A1scaras.ipynb\" target=\"_parent\"><img src=\"https://colab.research.google.com/assets/colab-badge.svg\" alt=\"Open In Colab\"/></a>"
      ]
    },
    {
      "cell_type": "code",
      "execution_count": 1,
      "metadata": {
        "id": "UYadvRn918-R"
      },
      "outputs": [],
      "source": [
        "import numpy as np"
      ]
    },
    {
      "cell_type": "markdown",
      "source": [
        "#**Métodos importantes**"
      ],
      "metadata": {
        "id": "0uNKgskj3hKn"
      }
    },
    {
      "cell_type": "markdown",
      "source": [
        "\n",
        "\n",
        "01.   ndim\n",
        "02.   shape\n",
        "3.   dtype\n",
        "4. astype\n",
        "5. min\n",
        "6. max\n",
        "7. argmin\n",
        "8. sum\n",
        "9. mean\n",
        "10. var\n",
        "11. std\n",
        "12. sort\n",
        "13. T\n",
        "14. reshape\n",
        "\n"
      ],
      "metadata": {
        "id": "Rs33eoK33lAG"
      }
    },
    {
      "cell_type": "code",
      "source": [
        "#1. ndim\n",
        "arr = np.random.randn(10)\n",
        "print(arr)\n",
        "print(arr.ndim)# retorna a dimensão do array"
      ],
      "metadata": {
        "colab": {
          "base_uri": "https://localhost:8080/"
        },
        "id": "8au9oX6H4olE",
        "outputId": "eaca94a4-7efc-4d18-dc74-38cde7e237b0"
      },
      "execution_count": 13,
      "outputs": [
        {
          "output_type": "stream",
          "name": "stdout",
          "text": [
            "[ 0.19398765 -0.1515257  -0.572619   -0.32791278 -1.19888005  1.03415857\n",
            "  1.95332692  0.91546905  0.33476867  0.24536084]\n",
            "1\n"
          ]
        }
      ]
    },
    {
      "cell_type": "code",
      "source": [
        "#2. shap\n",
        "print(arr.shape)# retorna o formato do array => (10, 1) 10 elementos e 1 linha\n"
      ],
      "metadata": {
        "colab": {
          "base_uri": "https://localhost:8080/"
        },
        "id": "9y1y1jhs7G8L",
        "outputId": "5feea2d5-0af1-4623-c110-a8b75ad167a5"
      },
      "execution_count": 25,
      "outputs": [
        {
          "output_type": "stream",
          "name": "stdout",
          "text": [
            "(10,)\n"
          ]
        }
      ]
    },
    {
      "cell_type": "code",
      "source": [
        "#3. dtype\n",
        "arr.dtype #retorna o tipo de dado"
      ],
      "metadata": {
        "colab": {
          "base_uri": "https://localhost:8080/"
        },
        "id": "OudeDyks7NzK",
        "outputId": "86b71904-62c3-48e0-ddb3-2ef40268ce82"
      },
      "execution_count": 26,
      "outputs": [
        {
          "output_type": "execute_result",
          "data": {
            "text/plain": [
              "dtype('int32')"
            ]
          },
          "metadata": {},
          "execution_count": 26
        }
      ]
    },
    {
      "cell_type": "code",
      "source": [
        "#4. astype\n",
        "arr = arr.astype(np.int32) # pode colocar 'int' no lugar de np.int32, int como string mesmo\n",
        "arr.dtype"
      ],
      "metadata": {
        "colab": {
          "base_uri": "https://localhost:8080/"
        },
        "id": "L-b0T8h277eq",
        "outputId": "200ff510-6c7a-456a-ecea-adc30a337604"
      },
      "execution_count": 23,
      "outputs": [
        {
          "output_type": "execute_result",
          "data": {
            "text/plain": [
              "dtype('int32')"
            ]
          },
          "metadata": {},
          "execution_count": 23
        }
      ]
    },
    {
      "cell_type": "code",
      "source": [
        "#5. min, retorna o menor valor\n",
        "arr2 = np.random.randint(0,20, size = (3,3))\n",
        "print(arr2)\n",
        "print(arr2.min())"
      ],
      "metadata": {
        "colab": {
          "base_uri": "https://localhost:8080/"
        },
        "id": "EtJnfCqL_fWT",
        "outputId": "425d1474-a24f-4db1-e99a-2dd16e4d2395"
      },
      "execution_count": 30,
      "outputs": [
        {
          "output_type": "stream",
          "name": "stdout",
          "text": [
            "[[13 17 19]\n",
            " [16 15  5]\n",
            " [13  3  8]]\n",
            "3\n"
          ]
        }
      ]
    },
    {
      "cell_type": "code",
      "source": [
        "#6. max, retorna o maior valor\n",
        "arr2.max()"
      ],
      "metadata": {
        "colab": {
          "base_uri": "https://localhost:8080/"
        },
        "id": "AGVyCK8EAB4d",
        "outputId": "e59a964a-733d-4be9-b16e-484c69a226ef"
      },
      "execution_count": 31,
      "outputs": [
        {
          "output_type": "execute_result",
          "data": {
            "text/plain": [
              "19"
            ]
          },
          "metadata": {},
          "execution_count": 31
        }
      ]
    },
    {
      "cell_type": "code",
      "source": [
        "#7. argmin ou argmax, retorna o indice do menor e do maior elemento\n",
        "print(arr2.argmax())\n",
        "print(arr2.argmin())"
      ],
      "metadata": {
        "colab": {
          "base_uri": "https://localhost:8080/"
        },
        "id": "Vk5FRdMJAMIH",
        "outputId": "dd0c7569-f89a-4977-c9cf-63e75f1635c1"
      },
      "execution_count": 34,
      "outputs": [
        {
          "output_type": "stream",
          "name": "stdout",
          "text": [
            "2\n",
            "7\n"
          ]
        }
      ]
    },
    {
      "cell_type": "code",
      "source": [
        "#8. mean => média\n",
        "#9 sum => soma\n",
        "#10 var => variancia\n",
        "#11 std => desvio padrão\n",
        "print(f\"Média {np.mean(arr2):.2f}\") #arr2.mean()\n",
        "print(f\"Soma {arr2.sum()}\")\n",
        "print(f\"Variância {np.var(arr2):.2f}\") #arr2.var()\n",
        "print(f\"DP {np.std(arr2):.2f}\") #arr2.std()"
      ],
      "metadata": {
        "colab": {
          "base_uri": "https://localhost:8080/"
        },
        "id": "jR_SehSJBF2j",
        "outputId": "edaa3f04-c98c-4dd6-f211-1de851543ff1"
      },
      "execution_count": 48,
      "outputs": [
        {
          "output_type": "stream",
          "name": "stdout",
          "text": [
            "Média 12.11\n",
            "Soma 109\n",
            "Variância 27.43\n",
            "DP 5.24\n"
          ]
        }
      ]
    },
    {
      "cell_type": "code",
      "source": [
        "#12. sort, ordenação so array\n",
        "arr2.sort() #crescente em cada linhas\n",
        "print(arr2)\n"
      ],
      "metadata": {
        "colab": {
          "base_uri": "https://localhost:8080/"
        },
        "id": "2ddRItsvBe2M",
        "outputId": "5361d0a2-7580-46b1-d173-b04f3af4f971"
      },
      "execution_count": 52,
      "outputs": [
        {
          "output_type": "stream",
          "name": "stdout",
          "text": [
            "[[13 17 19]\n",
            " [ 5 15 16]\n",
            " [ 3  8 13]]\n"
          ]
        }
      ]
    },
    {
      "cell_type": "code",
      "source": [
        "#13. T => transposta de uma matriz\n",
        "arr2.T"
      ],
      "metadata": {
        "colab": {
          "base_uri": "https://localhost:8080/"
        },
        "id": "VyD4cpDPDAWB",
        "outputId": "41e79b76-7359-4ba8-f5a8-c439f37ad8e7"
      },
      "execution_count": 53,
      "outputs": [
        {
          "output_type": "execute_result",
          "data": {
            "text/plain": [
              "array([[13,  5,  3],\n",
              "       [17, 15,  8],\n",
              "       [19, 16, 13]])"
            ]
          },
          "metadata": {},
          "execution_count": 53
        }
      ]
    },
    {
      "cell_type": "markdown",
      "source": [
        "#**Máscaras**\n",
        "array booleano definindo quais serão os elementos que serão escolhidos em outro array"
      ],
      "metadata": {
        "id": "PRYyJ40YDI2k"
      }
    },
    {
      "cell_type": "code",
      "source": [
        "a = np.array([1,2,3,4])#quero só 3 e 4\n",
        "print(a[2:])\n",
        "print(\"-----------Usando Máscaras-----------\")\n",
        "a[[False, False, True, True]] #Máscara, forma I\n"
      ],
      "metadata": {
        "colab": {
          "base_uri": "https://localhost:8080/"
        },
        "id": "hsyRo74hDUYo",
        "outputId": "6f3c1779-c8ed-4507-d746-7a17bc01581e"
      },
      "execution_count": 59,
      "outputs": [
        {
          "output_type": "stream",
          "name": "stdout",
          "text": [
            "[3 4]\n",
            "-----------Usando Máscaras-----------\n"
          ]
        },
        {
          "output_type": "execute_result",
          "data": {
            "text/plain": [
              "array([3, 4])"
            ]
          },
          "metadata": {},
          "execution_count": 59
        }
      ]
    },
    {
      "cell_type": "code",
      "source": [
        "a >= 3 #Máscara, forma II\n",
        "print(a[a >= 3])\n",
        "print(a[a % 2 == 0 ])"
      ],
      "metadata": {
        "colab": {
          "base_uri": "https://localhost:8080/"
        },
        "id": "3ue86FCPFFNi",
        "outputId": "7b01eb1f-7fc8-435c-bca5-1aa89638e9de"
      },
      "execution_count": 64,
      "outputs": [
        {
          "output_type": "stream",
          "name": "stdout",
          "text": [
            "[3 4]\n",
            "[2 4]\n"
          ]
        }
      ]
    }
  ]
}