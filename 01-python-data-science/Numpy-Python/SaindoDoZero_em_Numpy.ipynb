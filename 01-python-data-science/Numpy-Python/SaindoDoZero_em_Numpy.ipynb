{
  "nbformat": 4,
  "nbformat_minor": 0,
  "metadata": {
    "colab": {
      "provenance": [],
      "authorship_tag": "ABX9TyM1cx96Bd5wgzy7zi81sx+O",
      "include_colab_link": true
    },
    "kernelspec": {
      "name": "python3",
      "display_name": "Python 3"
    },
    "language_info": {
      "name": "python"
    }
  },
  "cells": [
    {
      "cell_type": "markdown",
      "metadata": {
        "id": "view-in-github",
        "colab_type": "text"
      },
      "source": [
        "<a href=\"https://colab.research.google.com/github/danielduartt/Numpy-Python/blob/main/SaindoDoZero_em_Numpy.ipynb\" target=\"_parent\"><img src=\"https://colab.research.google.com/assets/colab-badge.svg\" alt=\"Open In Colab\"/></a>"
      ]
    },
    {
      "cell_type": "markdown",
      "source": [
        "##Importando o numpy\n"
      ],
      "metadata": {
        "id": "zErbXLe_JcCX"
      }
    },
    {
      "cell_type": "code",
      "source": [
        "import numpy as np"
      ],
      "metadata": {
        "id": "hRFphK6iJq4Q"
      },
      "execution_count": 2,
      "outputs": []
    },
    {
      "cell_type": "markdown",
      "source": [
        "#Criando um Array:\n"
      ],
      "metadata": {
        "id": "paBcYELtJk6I"
      }
    },
    {
      "cell_type": "markdown",
      "source": [
        "##np.array() => pode ter 'n' dimensões\n",
        "*   Item da lista\n",
        "*   Item da lista\n",
        "\n"
      ],
      "metadata": {
        "id": "cszDxPBSo3mD"
      }
    },
    {
      "cell_type": "code",
      "source": [
        "a = np.array([[1, 2, 3, 4, 5, 6], [3, 4, 5, 6, 6, 7]])\n",
        "print(a)\n",
        "print(type(a))"
      ],
      "metadata": {
        "colab": {
          "base_uri": "https://localhost:8080/"
        },
        "id": "a_LrhkHspOif",
        "outputId": "904c1fa8-b8e3-4969-d034-c3bae9265673"
      },
      "execution_count": 7,
      "outputs": [
        {
          "output_type": "stream",
          "name": "stdout",
          "text": [
            "[[1 2 3 4 5 6]\n",
            " [3 4 5 6 6 7]]\n",
            "<class 'numpy.ndarray'>\n"
          ]
        }
      ]
    },
    {
      "cell_type": "markdown",
      "source": [
        "##np.zeros(shape = (x, y, z)\n",
        "x = quantidade de array, y = número de linhas e o  z = número de colunas de cada matriz"
      ],
      "metadata": {
        "id": "GBcU8BYJpPfX"
      }
    },
    {
      "cell_type": "code",
      "source": [
        "zero = np.zeros(shape = (5, 3, 6))\n",
        "print(zero)"
      ],
      "metadata": {
        "colab": {
          "base_uri": "https://localhost:8080/"
        },
        "id": "FlVeLaLCpVb3",
        "outputId": "f62f1d11-cf19-428e-dbdb-f7b0a24a7dd1"
      },
      "execution_count": 20,
      "outputs": [
        {
          "output_type": "stream",
          "name": "stdout",
          "text": [
            "[[[0. 0. 0. 0. 0. 0.]\n",
            "  [0. 0. 0. 0. 0. 0.]\n",
            "  [0. 0. 0. 0. 0. 0.]]\n",
            "\n",
            " [[0. 0. 0. 0. 0. 0.]\n",
            "  [0. 0. 0. 0. 0. 0.]\n",
            "  [0. 0. 0. 0. 0. 0.]]\n",
            "\n",
            " [[0. 0. 0. 0. 0. 0.]\n",
            "  [0. 0. 0. 0. 0. 0.]\n",
            "  [0. 0. 0. 0. 0. 0.]]\n",
            "\n",
            " [[0. 0. 0. 0. 0. 0.]\n",
            "  [0. 0. 0. 0. 0. 0.]\n",
            "  [0. 0. 0. 0. 0. 0.]]\n",
            "\n",
            " [[0. 0. 0. 0. 0. 0.]\n",
            "  [0. 0. 0. 0. 0. 0.]\n",
            "  [0. 0. 0. 0. 0. 0.]]]\n"
          ]
        }
      ]
    },
    {
      "cell_type": "markdown",
      "source": [
        "##np.ones()"
      ],
      "metadata": {
        "id": "593mbXt0pVoO"
      }
    },
    {
      "cell_type": "code",
      "source": [
        "um_array = np.ones(2) #uma dimensão com 2 colunas\n",
        "print(um_array)\n",
        "outro = np.ones((2, 3))\n",
        "outro"
      ],
      "metadata": {
        "colab": {
          "base_uri": "https://localhost:8080/"
        },
        "id": "ZgxM-ZgZrOHN",
        "outputId": "342d7e51-7049-4a36-da6d-041d53c6a373"
      },
      "execution_count": 21,
      "outputs": [
        {
          "output_type": "stream",
          "name": "stdout",
          "text": [
            "[1. 1.]\n"
          ]
        },
        {
          "output_type": "execute_result",
          "data": {
            "text/plain": [
              "array([[1., 1., 1.],\n",
              "       [1., 1., 1.]])"
            ]
          },
          "metadata": {},
          "execution_count": 21
        }
      ]
    },
    {
      "cell_type": "markdown",
      "source": [
        "##np.empty()"
      ],
      "metadata": {
        "id": "uOIIlAAOriRs"
      }
    },
    {
      "cell_type": "code",
      "source": [
        "vazio = np.empty((3, 4))\n",
        "vazio"
      ],
      "metadata": {
        "colab": {
          "base_uri": "https://localhost:8080/"
        },
        "id": "osFsZcfzrlhp",
        "outputId": "54fcafbd-661f-4306-c901-a6463ef9d1c6"
      },
      "execution_count": 14,
      "outputs": [
        {
          "output_type": "execute_result",
          "data": {
            "text/plain": [
              "array([[5.03381542e-310, 0.00000000e+000, 0.00000000e+000,\n",
              "        0.00000000e+000],\n",
              "       [0.00000000e+000, 0.00000000e+000, 0.00000000e+000,\n",
              "        0.00000000e+000],\n",
              "       [0.00000000e+000, 0.00000000e+000, 0.00000000e+000,\n",
              "        0.00000000e+000]])"
            ]
          },
          "metadata": {},
          "execution_count": 14
        }
      ]
    },
    {
      "cell_type": "markdown",
      "source": [
        "##np.arange()"
      ],
      "metadata": {
        "id": "76bOm8RBr5Ih"
      }
    },
    {
      "cell_type": "code",
      "source": [
        "array = np.array([1, 2, 3, 4, 5, 6, 7, 8, 9, 10])\n",
        "\n",
        "arr = np.arange(1, 11, 2) #sintaxe sem respeitar a ordem: np.arange(step = 2, start = 1, stop = 11)\n",
        "arr"
      ],
      "metadata": {
        "colab": {
          "base_uri": "https://localhost:8080/"
        },
        "id": "LoDmVcI-r9Ny",
        "outputId": "1ba08206-de92-4805-a37b-3491cced216b"
      },
      "execution_count": 22,
      "outputs": [
        {
          "output_type": "execute_result",
          "data": {
            "text/plain": [
              "array([1, 3, 5, 7, 9])"
            ]
          },
          "metadata": {},
          "execution_count": 22
        }
      ]
    },
    {
      "cell_type": "markdown",
      "source": [
        "##np.linspace()\n",
        "cria uma sequência com lógica linear"
      ],
      "metadata": {
        "id": "S8FF_cpntQ_x"
      }
    },
    {
      "cell_type": "code",
      "source": [
        "arr_linear = np.linspace(start = 0,  stop = 100, num = 20, endpoint = False, retstep = True) #num vai está relacionado a quantidade de números entre 0, 100 - 1 considerados. Já o endpoint = True/False considera números de 0 a 100(vem como padrão o True)\n",
        "# o retstep mostra a inclinação da reta nesse caso de uma matriz de uma dimesão, é a diferença entre os valores (padrão False)"
      ],
      "metadata": {
        "id": "K7QhcxbrtVmx"
      },
      "execution_count": 23,
      "outputs": []
    },
    {
      "cell_type": "markdown",
      "source": [
        "##Descobrindo o Tamanho de um Array:\n",
        "  * Tamanho de dimensões\n",
        "  \n",
        "  * Número de elementos"
      ],
      "metadata": {
        "id": "wZIAsPLkvTt9"
      }
    },
    {
      "cell_type": "code",
      "source": [
        "print(zero.shape) #tamanho do array (forma)"
      ],
      "metadata": {
        "colab": {
          "base_uri": "https://localhost:8080/"
        },
        "id": "Dl51Z4nBvkk1",
        "outputId": "f3a5fd43-f9be-4a57-f176-63a0c4c61c50"
      },
      "execution_count": 24,
      "outputs": [
        {
          "output_type": "stream",
          "name": "stdout",
          "text": [
            "(5, 3, 6)\n"
          ]
        }
      ]
    },
    {
      "cell_type": "code",
      "source": [
        "print(zero.size) #quantidade de dados"
      ],
      "metadata": {
        "colab": {
          "base_uri": "https://localhost:8080/"
        },
        "id": "X7FADkY4vuag",
        "outputId": "456116c1-b1cd-4cf7-c2f2-5b97532a729f"
      },
      "execution_count": 25,
      "outputs": [
        {
          "output_type": "stream",
          "name": "stdout",
          "text": [
            "90\n"
          ]
        }
      ]
    },
    {
      "cell_type": "code",
      "source": [
        "print(zero.ndim) #número de dimensões"
      ],
      "metadata": {
        "colab": {
          "base_uri": "https://localhost:8080/"
        },
        "id": "0a-mMb41vxaY",
        "outputId": "0b6cd8c2-ca22-4258-e04a-71ea3b6d79e0"
      },
      "execution_count": 27,
      "outputs": [
        {
          "output_type": "stream",
          "name": "stdout",
          "text": [
            "3\n"
          ]
        }
      ]
    },
    {
      "cell_type": "markdown",
      "source": [
        "##Transformando um vetor de uma dimensão em um matriz de duas dimensões:"
      ],
      "metadata": {
        "id": "TLDa7Qbswv2w"
      }
    },
    {
      "cell_type": "code",
      "source": [
        "a = np.array([1, 2, 3])\n",
        "a.ndim"
      ],
      "metadata": {
        "colab": {
          "base_uri": "https://localhost:8080/"
        },
        "id": "SfTVZiabw01d",
        "outputId": "d4fdb313-0bbe-4cab-cac5-c68ad299913a"
      },
      "execution_count": 34,
      "outputs": [
        {
          "output_type": "stream",
          "name": "stdout",
          "text": [
            "[1 2 3]\n"
          ]
        }
      ]
    },
    {
      "cell_type": "code",
      "source": [
        "a21 = a[np.newaxis, :] # o newaxis cria uma nova dimensão\n",
        "print(a21.shape)\n",
        "print(a21.ndim)\n",
        "print(a21)"
      ],
      "metadata": {
        "colab": {
          "base_uri": "https://localhost:8080/"
        },
        "id": "vAhkwj2FxIL_",
        "outputId": "b6135ca8-21c8-4b0a-abad-f771c8254095"
      },
      "execution_count": 40,
      "outputs": [
        {
          "output_type": "stream",
          "name": "stdout",
          "text": [
            "(1, 3)\n",
            "2\n",
            "[[1 2 3]]\n"
          ]
        }
      ]
    },
    {
      "cell_type": "code",
      "source": [
        "a22 = a[:, np.newaxis] #inverte a matriz\n",
        "print(a22.shape)\n",
        "print(a22.ndim)\n",
        "print(a22)"
      ],
      "metadata": {
        "colab": {
          "base_uri": "https://localhost:8080/"
        },
        "id": "tIVG3o9_yK7L",
        "outputId": "30ccbd11-a77c-4116-f3f9-e46ab034b689"
      },
      "execution_count": 35,
      "outputs": [
        {
          "output_type": "stream",
          "name": "stdout",
          "text": [
            "(3, 1)\n",
            "2\n",
            "[[1]\n",
            " [2]\n",
            " [3]]\n"
          ]
        }
      ]
    },
    {
      "cell_type": "markdown",
      "source": [
        "##Acessando um Dado específico:"
      ],
      "metadata": {
        "id": "Z0o43SCHyuF1"
      }
    },
    {
      "cell_type": "code",
      "source": [
        "print(a22[1][0]) #linha x coluna (lembre-se que, em python, começa por zero o index)"
      ],
      "metadata": {
        "colab": {
          "base_uri": "https://localhost:8080/"
        },
        "id": "3CSVOyZzyxbd",
        "outputId": "59de05f2-e28e-42a4-e718-3a61560dbaf7"
      },
      "execution_count": 45,
      "outputs": [
        {
          "output_type": "stream",
          "name": "stdout",
          "text": [
            "2\n"
          ]
        }
      ]
    },
    {
      "cell_type": "code",
      "source": [
        "print(a21[0]) #printo a linha toda\n",
        "print(a21[0][0]) #acesso o elemento 1 da linha 1"
      ],
      "metadata": {
        "colab": {
          "base_uri": "https://localhost:8080/"
        },
        "id": "Lu0e2jdAy6rd",
        "outputId": "b60c6297-6d3c-4f41-fbef-3caf1a710f52"
      },
      "execution_count": 47,
      "outputs": [
        {
          "output_type": "stream",
          "name": "stdout",
          "text": [
            "1\n"
          ]
        }
      ]
    },
    {
      "cell_type": "markdown",
      "source": [
        "##Concatenando arrays:"
      ],
      "metadata": {
        "id": "3nNdjrHDzlIz"
      }
    },
    {
      "cell_type": "code",
      "source": [
        "a = np.arange(1, 4)\n",
        "b = np.arange(4, 7)\n",
        "print(a)\n",
        "print(b)"
      ],
      "metadata": {
        "colab": {
          "base_uri": "https://localhost:8080/"
        },
        "id": "L2JrLatRzoTB",
        "outputId": "2c1a5c74-0777-4b42-aaea-d6261e03d32d"
      },
      "execution_count": 55,
      "outputs": [
        {
          "output_type": "stream",
          "name": "stdout",
          "text": [
            "[1 2 3]\n",
            "[4 5 6]\n"
          ]
        }
      ]
    },
    {
      "cell_type": "code",
      "source": [
        "c = np.concatenate((a, b))\n",
        "print(\"C = \",  c)\n",
        "d = np.concatenate((b, a))\n",
        "print(\"D = \",  d)"
      ],
      "metadata": {
        "colab": {
          "base_uri": "https://localhost:8080/"
        },
        "id": "2nWoaABuz1wA",
        "outputId": "dc87d3d4-9ef5-483c-956c-a1a713f804ec"
      },
      "execution_count": 56,
      "outputs": [
        {
          "output_type": "stream",
          "name": "stdout",
          "text": [
            "C =  [1 2 3 4 5 6]\n",
            "D =  [4 5 6 1 2 3]\n"
          ]
        }
      ]
    },
    {
      "cell_type": "markdown",
      "source": [
        "##Consultar itens de um array"
      ],
      "metadata": {
        "id": "jmWRxUMK0Zm7"
      }
    },
    {
      "cell_type": "code",
      "source": [
        "a = np.array ([ [1, 2, 3, 4], [5, 6, 7, 8], [9, 10, 11, 12] ])\n",
        "print(a)"
      ],
      "metadata": {
        "colab": {
          "base_uri": "https://localhost:8080/"
        },
        "id": "_0wxl4u_0dK4",
        "outputId": "bb486a38-a68f-4745-e33d-e55a6e6f6632"
      },
      "execution_count": 59,
      "outputs": [
        {
          "output_type": "stream",
          "name": "stdout",
          "text": [
            "[[ 1  2  3  4]\n",
            " [ 5  6  7  8]\n",
            " [ 9 10 11 12]]\n"
          ]
        }
      ]
    },
    {
      "cell_type": "code",
      "source": [
        "#EXEMPLO\n",
        "maior_oito = a[a > 8]\n",
        "maior_oito"
      ],
      "metadata": {
        "colab": {
          "base_uri": "https://localhost:8080/"
        },
        "id": "it6DKGvJ02Fu",
        "outputId": "f5895616-3e83-4182-ee91-fcc36c9c7273"
      },
      "execution_count": 60,
      "outputs": [
        {
          "output_type": "execute_result",
          "data": {
            "text/plain": [
              "array([ 9, 10, 11, 12])"
            ]
          },
          "metadata": {},
          "execution_count": 60
        }
      ]
    },
    {
      "cell_type": "markdown",
      "source": [
        "##Operações com arrays:"
      ],
      "metadata": {
        "id": "J1XhZYdY1TGX"
      }
    },
    {
      "cell_type": "code",
      "source": [
        "#SOMA\n",
        "a = np.array([1, 2, 3])\n",
        "print(a.sum())\n",
        "#VALOR MÁXIMO\n",
        "print(a.max())\n",
        "\n",
        "#VALOR MÍNIMO\n",
        "print(a.min())\n",
        "\n",
        "#MÉDIA\n",
        "print(a.mean())"
      ],
      "metadata": {
        "id": "CIBw4Jlf1W4l"
      },
      "execution_count": null,
      "outputs": []
    },
    {
      "cell_type": "markdown",
      "source": [
        "##Gerando amostras aleatórias:\n"
      ],
      "metadata": {
        "id": "Q8ijvCTL10Hs"
      }
    },
    {
      "cell_type": "code",
      "source": [
        "from numpy.random import default_rng"
      ],
      "metadata": {
        "id": "Z35kSVRK13u1"
      },
      "execution_count": 63,
      "outputs": []
    },
    {
      "cell_type": "code",
      "source": [
        "rng = default_rng()\n",
        "#valores aleatórios interios\n",
        "random = rng.integers(10, size = (2, 4)) #valores de 0 até 10, criando uma matrix 2X4, size = tamanho\n",
        "random"
      ],
      "metadata": {
        "colab": {
          "base_uri": "https://localhost:8080/"
        },
        "id": "Zy6aEvui18I0",
        "outputId": "3042f78a-3072-4df5-e00c-ff8f6fac6573"
      },
      "execution_count": 65,
      "outputs": [
        {
          "output_type": "execute_result",
          "data": {
            "text/plain": [
              "array([[8, 1, 5, 7],\n",
              "       [7, 1, 1, 1]])"
            ]
          },
          "metadata": {},
          "execution_count": 65
        }
      ]
    },
    {
      "cell_type": "code",
      "source": [
        "##Array X Listas:"
      ],
      "metadata": {
        "id": "HFsWGSAs2qN0"
      },
      "execution_count": null,
      "outputs": []
    },
    {
      "cell_type": "code",
      "source": [
        "arr = np.array([1, 2, 3, 4, 5, 6, 7])\n",
        "print(arr)\n",
        "print(type(a))\n"
      ],
      "metadata": {
        "colab": {
          "base_uri": "https://localhost:8080/"
        },
        "id": "rLx9B_oq2tfN",
        "outputId": "4f726754-1366-41fb-8da8-84287c004076"
      },
      "execution_count": 66,
      "outputs": [
        {
          "output_type": "stream",
          "name": "stdout",
          "text": [
            "[1 2 3 4 5 6 7]\n",
            "<class 'numpy.ndarray'>\n"
          ]
        }
      ]
    },
    {
      "cell_type": "code",
      "source": [
        "lista =  list(range(1, 8))\n",
        "print(lista)\n",
        "print(type(lista))"
      ],
      "metadata": {
        "colab": {
          "base_uri": "https://localhost:8080/"
        },
        "id": "wBAvNg0p240V",
        "outputId": "c3a548ad-90dc-442b-df22-5f78561a1601"
      },
      "execution_count": 68,
      "outputs": [
        {
          "output_type": "stream",
          "name": "stdout",
          "text": [
            "[1, 2, 3, 4, 5, 6, 7]\n",
            "<class 'list'>\n"
          ]
        }
      ]
    },
    {
      "cell_type": "code",
      "source": [
        "arr = np.array([1, 'Daniel', 3, 4, 5, 6, 7]) #como added uma string, ele transforma todos os itens em string, por isso processa mais rápido\n",
        "lista = [1, 'Daniel', 2, 3, 4, 5, 6, 7]\n",
        "print(arr)\n",
        "print(lista)"
      ],
      "metadata": {
        "colab": {
          "base_uri": "https://localhost:8080/"
        },
        "id": "k4pO23Lj3NeL",
        "outputId": "f1c2d701-b58f-492a-a97b-6255ac3a3260"
      },
      "execution_count": 71,
      "outputs": [
        {
          "output_type": "stream",
          "name": "stdout",
          "text": [
            "['1' 'Daniel' '3' '4' '5' '6' '7']\n",
            "[1, 'Daniel', 2, 3, 4, 5, 6, 7]\n"
          ]
        }
      ]
    },
    {
      "cell_type": "markdown",
      "source": [
        "##Comparando o tempo de processamento"
      ],
      "metadata": {
        "id": "_3lPlGPh3y7D"
      }
    },
    {
      "cell_type": "code",
      "source": [
        "from time import process_time\n",
        "lista_a = list(rng.integers(10, 100, 10000000))\n",
        "lista_b = list(rng.integers(10, 100, 10000000))\n",
        "c = list()\n",
        "'''c = lista_a * lista_b #não vai conseguir'''\n",
        "t1 = process_time()\n",
        "for i in range(len(lista_a)):\n",
        "  c.append(lista_a[i] * lista_b[i])\n",
        "t2 = process_time()\n",
        "print(t2 - t1)"
      ],
      "metadata": {
        "colab": {
          "base_uri": "https://localhost:8080/"
        },
        "id": "16A2jsX_31_8",
        "outputId": "e866ca59-44f4-4b66-de9f-3246975ed05f"
      },
      "execution_count": 78,
      "outputs": [
        {
          "output_type": "stream",
          "name": "stdout",
          "text": [
            "2.922183075999996\n"
          ]
        }
      ]
    },
    {
      "cell_type": "code",
      "source": [
        "arr_a = rng.integers(10, 100, 10000000)\n",
        "arr_b = rng.integers(10, 100, 10000000)\n",
        "t1A = process_time()\n",
        "c = arr_a * arr_b\n",
        "t2A = process_time()\n",
        "print(t2A - t1A)"
      ],
      "metadata": {
        "colab": {
          "base_uri": "https://localhost:8080/"
        },
        "id": "yHW0To5j4Jxa",
        "outputId": "e1536957-7366-446c-b4b8-feb1a47cb11e"
      },
      "execution_count": 79,
      "outputs": [
        {
          "output_type": "stream",
          "name": "stdout",
          "text": [
            "0.04866791599999942\n"
          ]
        }
      ]
    },
    {
      "cell_type": "code",
      "source": [
        "import matplotlib.pyplot as plt\n",
        "dados_x = rng.integers(20, size = 30)\n",
        "dados_y = rng.integers(12, size = 30)\n",
        "\n",
        "plt.scatter(x = dados_x, y = dados_y)\n",
        "plt.show()"
      ],
      "metadata": {
        "colab": {
          "base_uri": "https://localhost:8080/",
          "height": 430
        },
        "id": "Pe_Emgqk56xp",
        "outputId": "9c7544af-6326-4ea8-fe70-084754670d83"
      },
      "execution_count": 83,
      "outputs": [
        {
          "output_type": "display_data",
          "data": {
            "text/plain": [
              "<Figure size 640x480 with 1 Axes>"
            ],
            "image/png": "[encoded data removed]"
          },
          "metadata": {}
        }
      ]
    },
    {
      "cell_type": "code",
      "source": [],
      "metadata": {
        "id": "s3iwwIkE6aFI"
      },
      "execution_count": null,
      "outputs": []
    }
  ]
}