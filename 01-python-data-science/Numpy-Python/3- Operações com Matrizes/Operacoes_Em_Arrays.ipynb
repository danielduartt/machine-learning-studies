{
  "nbformat": 4,
  "nbformat_minor": 0,
  "metadata": {
    "colab": {
      "provenance": [],
      "authorship_tag": "ABX9TyMZ0kAA6ZhaHiGXh2rstaOn",
      "include_colab_link": true
    },
    "kernelspec": {
      "name": "python3",
      "display_name": "Python 3"
    },
    "language_info": {
      "name": "python"
    }
  },
  "cells": [
    {
      "cell_type": "markdown",
      "metadata": {
        "id": "view-in-github",
        "colab_type": "text"
      },
      "source": [
        "<a href=\"https://colab.research.google.com/github/danielduartt/Numpy-Python/blob/main/Opera%C3%A7%C3%B5es%20com%20Matrizes/Operacoes_Em_Arrays.ipynb\" target=\"_parent\"><img src=\"https://colab.research.google.com/assets/colab-badge.svg\" alt=\"Open In Colab\"/></a>"
      ]
    },
    {
      "cell_type": "code",
      "execution_count": 1,
      "metadata": {
        "id": "qU9FEoP2Z5rm"
      },
      "outputs": [],
      "source": [
        "import numpy as np"
      ]
    },
    {
      "cell_type": "markdown",
      "source": [
        "#**Com escalares**"
      ],
      "metadata": {
        "id": "ry7nFrD1aKre"
      }
    },
    {
      "cell_type": "code",
      "source": [
        "arr = np.ones(10)\n",
        "print(arr)"
      ],
      "metadata": {
        "colab": {
          "base_uri": "https://localhost:8080/"
        },
        "id": "5VrBvEgTaNyV",
        "outputId": "f3dde048-4783-44b8-88d5-234d22060532"
      },
      "execution_count": 2,
      "outputs": [
        {
          "output_type": "stream",
          "name": "stdout",
          "text": [
            "[1. 1. 1. 1. 1. 1. 1. 1. 1. 1.]\n"
          ]
        }
      ]
    },
    {
      "cell_type": "code",
      "source": [
        "arr = 10 * arr\n",
        "print(arr)"
      ],
      "metadata": {
        "colab": {
          "base_uri": "https://localhost:8080/"
        },
        "id": "7z-zICdgac3t",
        "outputId": "5e658743-fdc6-49e7-8f7e-490696f5c78f"
      },
      "execution_count": 3,
      "outputs": [
        {
          "output_type": "stream",
          "name": "stdout",
          "text": [
            "[10. 10. 10. 10. 10. 10. 10. 10. 10. 10.]\n"
          ]
        }
      ]
    },
    {
      "cell_type": "code",
      "source": [
        "arr2 = np.random.randint(0, 10, size = (2,3))\n",
        "print(arr2)\n",
        "print('--------------------')\n",
        "print(arr2 / 2)\n"
      ],
      "metadata": {
        "colab": {
          "base_uri": "https://localhost:8080/"
        },
        "id": "Cy-VFDG-altN",
        "outputId": "c244dbc2-a7f4-4d96-95aa-ac7a9ec9c587"
      },
      "execution_count": 13,
      "outputs": [
        {
          "output_type": "stream",
          "name": "stdout",
          "text": [
            "[[9 4 0]\n",
            " [1 9 0]]\n",
            "--------------------\n",
            "[[4.5 2.  0. ]\n",
            " [0.5 4.5 0. ]]\n"
          ]
        }
      ]
    },
    {
      "cell_type": "code",
      "source": [
        "np.random.seed(32) #faz com que os números criados aleatórios se mantenham\n",
        "print(arr2)\n",
        "print('--------------------')\n",
        "print(arr2 - 2) #subtraindo -2 de todos os elementos"
      ],
      "metadata": {
        "colab": {
          "base_uri": "https://localhost:8080/"
        },
        "id": "i60y44A0a4iu",
        "outputId": "90e79539-2a38-4785-c312-05628079a0bd"
      },
      "execution_count": 23,
      "outputs": [
        {
          "output_type": "stream",
          "name": "stdout",
          "text": [
            "[[9 4 0]\n",
            " [1 9 0]]\n",
            "--------------------\n",
            "[[ 7  2 -2]\n",
            " [-1  7 -2]]\n"
          ]
        }
      ]
    },
    {
      "cell_type": "markdown",
      "source": [
        "#**Entre Arrays**"
      ],
      "metadata": {
        "id": "F2JZqhgZaPpF"
      }
    },
    {
      "cell_type": "code",
      "source": [
        "arr2 = np.random.randint(1, 100, 8)\n",
        "arr3 = np.random.randint(1, 100, 8) # 8 elementos\n",
        "print(arr3)\n",
        "print('-----------------------------------')\n",
        "print(arr2 + arr3) # so vai poder somar se tiverem o mesmo tamanho\n",
        "#o shapes podem ser diferentes se for multiplicação de matrizes\n",
        "print('-----------------------------------')\n",
        "print(arr2 * arr3) #está multiplicando elemento a elemento, não é uma multiplicação de matrizes"
      ],
      "metadata": {
        "colab": {
          "base_uri": "https://localhost:8080/"
        },
        "id": "k9pCmZmHaSRw",
        "outputId": "8b52c843-b133-47fd-d4aa-b943cc5476f7"
      },
      "execution_count": 27,
      "outputs": [
        {
          "output_type": "stream",
          "name": "stdout",
          "text": [
            "[62 51 46 25 12 94 48 44]\n",
            "-----------------------------------\n",
            "[131 114  77 106  96 145 123  80]\n",
            "-----------------------------------\n",
            "[4278 3213 1426 2025 1008 4794 3600 1584]\n"
          ]
        }
      ]
    },
    {
      "cell_type": "code",
      "source": [
        "#---------------------  Multiplicação de Matrizes -----------------------\n",
        "#(3 x 2) x (2 x 3) = (3 x 3) => para poder fazer a mult de matrizes é necessário\n",
        "# que a matriz A tenha a quantidade de linhas iguais a quantidade de colunas da matriz B\n",
        "m1 = np.random.randint(1, 10, size = (3, 2))\n",
        "print(\"--------------Matriz A----------------\")\n",
        "print(m1)\n",
        "print(\"--------------Matriz B----------------\")\n",
        "m2 = np.random.randint(1, 10, size = (2, 3))\n",
        "print(m2)\n",
        "print(\"---------------A x B------------------\")\n",
        "m3 = m1.dot(m2)\n",
        "print(m3)\n"
      ],
      "metadata": {
        "colab": {
          "base_uri": "https://localhost:8080/"
        },
        "id": "dv2-KqXoceXW",
        "outputId": "c8b75a8f-ac22-46bb-cb49-34de9613080a"
      },
      "execution_count": 36,
      "outputs": [
        {
          "output_type": "stream",
          "name": "stdout",
          "text": [
            "--------------Matriz A----------------\n",
            "[[5 5]\n",
            " [6 7]\n",
            " [9 5]]\n",
            "--------------Matriz B----------------\n",
            "[[1 7 5]\n",
            " [1 4 3]]\n",
            "---------------A x B------------------\n",
            "[[10 55 40]\n",
            " [13 70 51]\n",
            " [14 83 60]]\n"
          ]
        }
      ]
    },
    {
      "cell_type": "markdown",
      "source": [
        "#**Comparações**"
      ],
      "metadata": {
        "id": "oTbIy1iRaSy9"
      }
    },
    {
      "cell_type": "code",
      "source": [
        "arr1 = np.array([1,2,2,1])\n",
        "arr2 = np.array([3,2,3,1])\n",
        "print(arr1 == arr2)\n",
        "#Comparando o array todo\n",
        "print('---------------------------')\n",
        "np.array_equal(arr1, arr2)"
      ],
      "metadata": {
        "colab": {
          "base_uri": "https://localhost:8080/"
        },
        "id": "85IFpqx_aVDh",
        "outputId": "5193bbc4-b597-406d-e879-c9ee440f6807"
      },
      "execution_count": 42,
      "outputs": [
        {
          "output_type": "stream",
          "name": "stdout",
          "text": [
            "[False  True False  True]\n",
            "---------------------------\n"
          ]
        },
        {
          "output_type": "execute_result",
          "data": {
            "text/plain": [
              "False"
            ]
          },
          "metadata": {},
          "execution_count": 42
        }
      ]
    }
  ]
}